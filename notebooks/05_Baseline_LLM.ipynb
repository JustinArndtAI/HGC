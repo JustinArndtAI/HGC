{
 "cells": [
  {
   "cell_type": "code",
   "execution_count": null,
   "metadata": {},
   "outputs": [],
   "source": [
    "from datasets import load_dataset\n",
    "\n",
    "# Load the TruthfulQA dataset\n",
    "dataset = load_dataset('truthful_qa', 'generation')\n",
    "print(dataset)\n",
    "\n",
    "# Split into train and test sets (80/20 split for example)\n",
    "train_test = dataset['validation'].train_test_split(test_size=0.2)\n",
    "train_dataset = train_test['train']\n",
    "test_dataset = train_test['test']"
   ]
  },
  {
   "cell_type": "code",
   "execution_count": null,
   "metadata": {},
   "outputs": [],
   "source": [
    "from transformers import GPT2Tokenizer, GPT2LMHeadModel, Trainer, TrainingArguments\n",
    "from datasets import Dataset\n",
    "\n",
    "# Select GPT-2 small\n",
    "tokenizer = GPT2Tokenizer.from_pretrained('gpt2')\n",
    "tokenizer.pad_token = tokenizer.eos_token\n",
    "model = GPT2LMHeadModel.from_pretrained('gpt2')\n",
    "\n",
    "# Format data for language modeling: question + best answer\n",
    "def format_example(example):\n",
    "    return {'text': f\"Question: {example['question']}\\nAnswer: {example['best_answer']}\"}\n",
    "\n",
    "train_formatted = train_dataset.map(format_example)\n",
    "test_formatted = test_dataset.map(format_example)\n",
    "\n",
    "# Tokenize\n",
    "def tokenize_function(examples):\n",
    "    return tokenizer(examples['text'], truncation=True, padding='max_length', max_length=128)\n",
    "\n",
    "train_tokenized = train_formatted.map(tokenize_function, batched=True, remove_columns=['text'])\n",
    "test_tokenized = test_formatted.map(tokenize_function, batched=True, remove_columns=['text'])\n",
    "\n",
    "train_tokenized = train_tokenized.rename_column('attention_mask', 'labels')  # For causal LM, labels are inputs shifted\n",
    "test_tokenized = test_tokenized.rename_column('attention_mask', 'labels')"
   ]
  }
 ],
 "metadata": {
  "kernelspec": {
   "display_name": "Python 3",
   "language": "python",
   "name": "python3"
  },
  "language_info": {
   "codemirror_mode": {
    "name": "ipython",
    "version": 3
   },
   "file_extension": ".py",
   "mimetype": "text/x-python",
   "name": "python",
   "nbconvert_exporter": "python",
   "pygments_lexer": "ipython3",
   "version": "3.10.0"
  }
 },
 "nbformat": 4,
 "nbformat_minor": 2
}
