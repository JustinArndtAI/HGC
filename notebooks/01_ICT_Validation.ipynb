{
 "cells": [
  {
   "cell_type": "code",
   "execution_count": null,
   "metadata": {},
   "outputs": [],
   "source": [
    "import sys\n",
    "sys.path.append('../src')\n",
    "from vsa import VSA\n",
    "import numpy as np\n",
    "\n",
    "vsa = VSA(dim=2048)\n",
    "\n",
    "# Generate random atomic vectors for concepts\n",
    "np.random.seed(42)\n",
    "concepts = [f'concept_{i}' for i in range(100)]  # 50 pairs need 100 concepts\n",
    "atomic_vectors = {concept: np.random.normal(0, 1/np.sqrt(vsa.dim), vsa.dim) for concept in concepts}\n",
    "\n",
    "# Create 50 bound facts (e.g., concept_0 bound to concept_1, etc.)\n",
    "facts = []\n",
    "for i in range(0, 100, 2):\n",
    "    role = atomic_vectors[concepts[i]]\n",
    "    filler = atomic_vectors[concepts[i+1]]\n",
    "    bound = vsa.bind(role, filler)\n",
    "    facts.append(bound)\n",
    "\n",
    "# Bundle all facts into the memory vector M\n",
    "M = vsa.bundle(facts)"
   ]
  }
 ],
 "metadata": {
  "kernelspec": {
   "display_name": "Python 3",
   "language": "python",
   "name": "python3"
  },
  "language_info": {
   "codemirror_mode": {
    "name": "ipython",
    "version": 3
   },
   "file_extension": ".py",
   "mimetype": "text/x-python",
   "name": "python",
   "nbconvert_exporter": "python",
   "pygments_lexer": "ipython3",
   "version": "3.10.0"
  }
 },
 "nbformat": 4,
 "nbformat_minor": 2
}
