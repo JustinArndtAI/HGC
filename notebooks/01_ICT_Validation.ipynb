{
 "cells": [
  {
   "cell_type": "code",
   "execution_count": null,
   "metadata": {},
   "outputs": [],
   "source": [
    "import sys\n",
    "sys.path.append('../src')\n",
    "from vsa import VSA\n",
    "import numpy as np\n",
    "\n",
    "vsa = VSA(dim=2048)\n",
    "\n",
    "np.random.seed(42)\n",
    "# We now need only 10 concepts for 5 facts\n",
    "concepts = [f'concept_{i}' for i in range(10)]\n",
    "atomic_vectors = {concept: np.random.normal(0, 1/np.sqrt(vsa.dim), vsa.dim) for concept in concepts}\n",
    "\n",
    "# Create 5 bound facts (instead of 50)\n",
    "facts = []\n",
    "for i in range(0, 10, 2):\n",
    "    role = atomic_vectors[concepts[i]]\n",
    "    filler = atomic_vectors[concepts[i+1]]\n",
    "    bound = vsa.bind(role, filler)\n",
    "    facts.append(bound)\n",
    "\n",
    "# Bundle all 5 facts into the memory vector M\n",
    "M = vsa.bundle(facts)\n",
    "print('HKM created with 5 facts.')"
   ]
  },
  {
   "cell_type": "code",
   "execution_count": null,
   "metadata": {},
   "outputs": [],
   "source": [
    "true_scores = []\n",
    "false_scores = []\n",
    "\n",
    "# True queries (all 5 facts present)\n",
    "for i in range(0, 10, 2):\n",
    "    role = atomic_vectors[concepts[i]]\n",
    "    expected_filler = atomic_vectors[concepts[i+1]]\n",
    "    retrieved = vsa.unbind(role, M)\n",
    "    # Cosine similarity calculation\n",
    "    coherence = np.dot(retrieved, expected_filler) / (np.linalg.norm(retrieved) * np.linalg.norm(expected_filler))\n",
    "    true_scores.append(coherence)\n",
    "\n",
    "# False queries (5 facts not present)\n",
    "false_concepts = [f'false_concept_{j}' for j in range(10)]\n",
    "false_atomic = {c: np.random.normal(0, 1/np.sqrt(vsa.dim), vsa.dim) for c in false_concepts}\n",
    "for j in range(0, 10, 2):\n",
    "    role = false_atomic[false_concepts[j]]\n",
    "    expected_filler = false_atomic[false_concepts[j+1]]\n",
    "    retrieved = vsa.unbind(role, M)\n",
    "    coherence = np.dot(retrieved, expected_filler) / (np.linalg.norm(retrieved) * np.linalg.norm(expected_filler))\n",
    "    false_scores.append(coherence)\n",
    "print('Coherence scores calculated.')"
   ]
  },
  {
   "cell_type": "code",
   "execution_count": null,
   "metadata": {},
   "outputs": [],
   "source": [
    "import matplotlib.pyplot as plt\n",
    "\n",
    "plt.hist(true_scores, bins=10, alpha=0.7, label='True Facts')\n",
    "plt.hist(false_scores, bins=10, alpha=0.7, label='False Facts')\n",
    "plt.legend()\n",
    "plt.xlabel('Coherence Score')\n",
    "plt.ylabel('Frequency')\n",
    "plt.title('Distribution of Coherence Scores: True vs. False Facts')\n",
    "plt.show()"
   ]
  }
 ],
 "metadata": {
  "kernelspec": {
   "display_name": "Python 3 (ipykernel)",
   "language": "python",
   "name": "python3"
  },
  "language_info": {
   "codemirror_mode": {
    "name": "ipython",
    "version": 3
   },
   "file_extension": ".py",
   "mimetype": "text/x-python",
   "name": "python",
   "nbconvert_exporter": "python",
   "pygments_lexer": "ipython3",
   "version": "3.11.9"
  }
 },
 "nbformat": 4,
 "nbformat_minor": 4
}
