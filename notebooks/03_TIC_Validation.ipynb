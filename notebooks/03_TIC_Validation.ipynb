{
 "cells": [
  {
   "cell_type": "code",
   "execution_count": 1,
   "metadata": {},
   "outputs": [
    {
     "name": "stdout",
     "output_type": "stream",
     "text": [
      "Initial Persistence Diagram:\n"
     ]
    },
    {
     "data": {
      "application/vnd.plotly.v1+json": {
       "config": {
        "plotlyServerURL": "https://plot.ly"
       },
       "data": [
        {
         "hoverinfo": "none",
         "line": {
          "color": "black",
          "dash": "dash",
          "width": 1
         },
         "mode": "lines",
         "showlegend": false,
         "type": "scatter",
         "x": [
          -0.028355565071105957,
          1.4461338186264039
         ],
         "y": [
          -0.028355565071105957,
          1.4461338186264039
         ]
        },
        {
         "hoverinfo": "text",
         "hovertext": [
          "(0.0, 0.021213028579950333)",
          "(0.0, 0.029442334547638893)",
          "(0.0, 0.0328131839632988)",
          "(0.0, 0.034488387405872345)",
          "(0.0, 0.03605850040912628)",
          "(0.0, 0.03719218447804451)",
          "(0.0, 0.03799089044332504)",
          "(0.0, 0.03956018015742302)",
          "(0.0, 0.040439654141664505)",
          "(0.0, 0.04158109053969383)",
          "(0.0, 0.04322001710534096)",
          "(0.0, 0.04513026028871536)",
          "(0.0, 0.047319162636995316)",
          "(0.0, 0.05059171840548515)",
          "(0.0, 0.053733035922050476)",
          "(0.0, 0.05515255406498909)",
          "(0.0, 0.05520489811897278)",
          "(0.0, 0.05708691477775574)",
          "(0.0, 0.05918172746896744)",
          "(0.0, 0.05956033989787102)",
          "(0.0, 0.06012025475502014)",
          "(0.0, 0.060145746916532516)",
          "(0.0, 0.06217554584145546)",
          "(0.0, 0.06342905014753342)",
          "(0.0, 0.06359876692295074)",
          "(0.0, 0.06374251842498779)",
          "(0.0, 0.06434150040149689)",
          "(0.0, 0.06483965367078781)",
          "(0.0, 0.06845200061798096)",
          "(0.0, 0.06922220438718796)",
          "(0.0, 0.07087299227714539)",
          "(0.0, 0.07297836989164352)",
          "(0.0, 0.07369231432676315)",
          "(0.0, 0.07371722906827927)",
          "(0.0, 0.07374226301908493)",
          "(0.0, 0.07473356276750565)",
          "(0.0, 0.07664128392934799)",
          "(0.0, 0.08011381328105927)",
          "(0.0, 0.08018326759338379)",
          "(0.0, 0.08062868565320969)",
          "(0.0, 0.0814824178814888)",
          "(0.0, 0.08181474357843399)",
          "(0.0, 0.08335192501544952)",
          "(0.0, 0.08389779925346375)",
          "(0.0, 0.08477266877889633)",
          "(0.0, 0.08484657108783722)",
          "(0.0, 0.08507462590932846)",
          "(0.0, 0.08514614403247833)",
          "(0.0, 0.08663517236709595)",
          "(0.0, 0.08748972415924072)",
          "(0.0, 0.08827687054872513)",
          "(0.0, 0.0891866385936737)",
          "(0.0, 0.08948221057653427)",
          "(0.0, 0.09038066118955612)",
          "(0.0, 0.09298515319824219)",
          "(0.0, 0.09315542131662369)",
          "(0.0, 0.09392117708921432)",
          "(0.0, 0.09392829984426498)",
          "(0.0, 0.09443599730730057)",
          "(0.0, 0.09557367861270905)",
          "(0.0, 0.09603366255760193)",
          "(0.0, 0.09674485772848129)",
          "(0.0, 0.09726641327142715)",
          "(0.0, 0.09748121351003647)",
          "(0.0, 0.09851963818073273)",
          "(0.0, 0.09966346621513367)",
          "(0.0, 0.10046056658029556)",
          "(0.0, 0.1009785458445549)",
          "(0.0, 0.10214447975158691)",
          "(0.0, 0.10474566370248795)",
          "(0.0, 0.1089373528957367)",
          "(0.0, 0.11137834936380386)",
          "(0.0, 0.11151673644781113)",
          "(0.0, 0.11269032210111618)",
          "(0.0, 0.11276084929704666)",
          "(0.0, 0.11497433483600616)",
          "(0.0, 0.11505354195833206)",
          "(0.0, 0.11510214954614639)",
          "(0.0, 0.11639776080846786)",
          "(0.0, 0.11999573558568954)",
          "(0.0, 0.12204495072364807)",
          "(0.0, 0.12238209694623947)",
          "(0.0, 0.12254520505666733)",
          "(0.0, 0.12338542193174362)",
          "(0.0, 0.12420130521059036)",
          "(0.0, 0.1260947734117508)",
          "(0.0, 0.13094359636306763)",
          "(0.0, 0.13181579113006592)",
          "(0.0, 0.13301517069339752)",
          "(0.0, 0.13690829277038574)",
          "(0.0, 0.13767269253730774)",
          "(0.0, 0.1437377780675888)",
          "(0.0, 0.14415369927883148)",
          "(0.0, 0.14862465858459473)",
          "(0.0, 0.15258876979351044)",
          "(0.0, 0.1604718714952469)",
          "(0.0, 0.16074833273887634)",
          "(0.0, 0.16278520226478577)",
          "(0.0, 0.17339134216308594)"
         ],
         "mode": "markers",
         "name": "H0",
         "type": "scatter",
         "x": {
          "bdata": "AAAAAAAAAAAAAAAAAAAAAAAAAAAAAAAAAAAAAAAAAAAAAAAAAAAAAAAAAAAAAAAAAAAAAAAAAAAAAAAAAAAAAAAAAAAAAAAAAAAAAAAAAAAAAAAAAAAAAAAAAAAAAAAAAAAAAAAAAAAAAAAAAAAAAAAAAAAAAAAAAAAAAAAAAAAAAAAAAAAAAAAAAAAAAAAAAAAAAAAAAAAAAAAAAAAAAAAAAAAAAAAAAAAAAAAAAAAAAAAAAAAAAAAAAAAAAAAAAAAAAAAAAAAAAAAAAAAAAAAAAAAAAAAAAAAAAAAAAAAAAAAAAAAAAAAAAAAAAAAAAAAAAAAAAAAAAAAAAAAAAAAAAAAAAAAAAAAAAAAAAAAAAAAAAAAAAAAAAAAAAAAAAAAAAAAAAAAAAAAAAAAAAAAAAAAAAAAAAAAAAAAAAAAAAAAAAAAAAAAAAAAAAAAAAAAAAAAAAAAAAAAAAAAAAAAAAAAAAAAAAAAAAAAAAAAAAAAAAAAAAAAAAAAAAAAAAAAAAAAAAAAAAAAAAAAAAAAAAAAAAAAAAAAAAAAAAAAAAAAAAAAAAAAAAAAAAAAAAAAAAAAAAAAAAAAAAAAAAAAAAAAAAAAAAAAAAAAAAAAAAAAAAAAAAAAAAAAAAAAAAAAAAAAAAAAAAAAAAAAAAAAAAAAAAAAAAAAAAAAAAAAAAAAAAAAAAAAAAAAAAAAAAAAAAAAAAAAAAAAAAAAAAAAAAAAAAAAAAAAAAAAAAAAAAAAAAAAAAAAAAAAAAAAAAAAAAAAAAAAAAAAAAAAAAAAAAAAAAAAAAAAAAAAAAAAAAAAAAAAAAAAAAAAAAAAAAAAAAAAAAAAAAAAAAAAAAAAAAAAAAAAAAAAAAAAAAAAAAAAAAAAAAAAAAAAAAAAAAAAAAAAAAAAAAAAAAAAAAAAAAAAAAAAAAAAAAAAAAAAAAAAAAAAAAAAAAAAAAAAAAAAAAAAAAAAAAAAAAAAAAAAAAAAAAAAAAAAAAAAAAAAAAAAAAAAAAAAAAAAAAAAAAAAAAAAAAAAAAAAAAAAAAAAAAAAAAAAA",
          "dtype": "f8"
         },
         "y": {
          "bdata": "AAAAQN64lT8AAACgISaePwAAAMDjzKA/AAAAQHaooT8AAACAQnaiPwAAAKDaCqM/AAAAwIpzoz8AAABgO0GkPwAAAKCBtKQ/AAAA4B1KpT8AAAAg7yCmPwAAAEBQG6c/AAAAoDc6qD8AAABgKOepPwAAAIDlgqs/AAAAoPQ8rD8AAAAA0UOsPwAAAAB/Oq0/AAAAQBFNrj8AAABgsX6uPwAAAAAVyK4/AAAAYGzLrj8AAAAgedWvPwAAAODiPLA/AAAAQAJIsD8AAAAAblGwPwAAAECveLA/AAAA4FSZsD8AAAAAEoaxPwAAAOCLuLE/AAAAgLsksj8AAADgta6yPwAAAOB/3bI/AAAA4CHfsj8AAADgxeCyPwAAACC9IbM/AAAAYMOesz8AAADAVoK0PwAAAADkhrQ/AAAA4BSktD8AAAAgCNy0PwAAAKDP8bQ/AAAAQI1WtT8AAACAU3q1PwAAAGCps7U/AAAAQIG4tT8AAABgc8e1PwAAAEAjzLU/AAAAALkttj8AAAAAumW2PwAAACBQmbY/AAAAgO/Utj8AAABgTui2PwAAAOAvI7c/AAAAAODNtz8AAACgCNm3PwAAAOA3C7g/AAAAYK8LuD8AAAAg9Sy4PwAAAECEd7g/AAAAgKmVuD8AAABgRcS4PwAAAKBz5rg/AAAAYIf0uD8AAABAlTi5PwAAAICLg7k/AAAAoMi3uT8AAADgutm5PwAAAAAkJro/AAAAoJzQuj8AAACAUeO7PwAAAKBKg7w/AAAAYFyMvD8AAADgRdm8PwAAACDl3bw/AAAAQPVuvT8AAAAgJnS9PwAAAKBVd70/AAAAYD7MvT8AAABgCri+PwAAAIBWPr8/AAAA4G5Uvz8AAABgH1+/PwAAAOAvlr8/AAAAIKjLvz8AAACg3yPAPwAAAIDCwsA/AAAAAFffwD8AAAAgpAbBPwAAAAA2hsE/AAAAQEKfwT8AAADg/2XCPwAAAOCgc8I/AAAAACIGwz8AAABgB4jDPwAAAKBXisQ/AAAAwGaTxD8AAABAJdbEPwAAAACwMcY/",
          "dtype": "f8"
         }
        },
        {
         "hoverinfo": "text",
         "hovertext": [
          "(0.23548293113708496, 0.24072712659835815)",
          "(0.21792258322238922, 1.4177782535552979)",
          "(0.17315416038036346, 0.17738240957260132)",
          "(0.15436288714408875, 0.16760075092315674)",
          "(0.14966973662376404, 0.16920143365859985)",
          "(0.1323690265417099, 0.165398970246315)",
          "(0.11549601703882217, 0.13233494758605957)",
          "(0.11534775048494339, 0.13964420557022095)"
         ],
         "mode": "markers",
         "name": "H1",
         "type": "scatter",
         "x": {
          "bdata": "AAAAAE4kzj8AAAAg4+TLPwAAAGDqKcY/AAAAwCnCwz8AAADAYCjDPwAAAOB38cA/AAAAoCWRvT8AAAAgboe9Pw==",
          "dtype": "f8"
         },
         "y": {
          "bdata": "AAAAgCXQzj8AAABAOK/2PwAAAIB3tMY/AAAAAPFzxT8AAACAZKjFPwAAACDLK8U/AAAAAFrwwD8AAACA3N/BPw==",
          "dtype": "f8"
         }
        }
       ],
       "layout": {
        "height": 500,
        "plot_bgcolor": "white",
        "template": {
         "data": {
          "bar": [
           {
            "error_x": {
             "color": "#2a3f5f"
            },
            "error_y": {
             "color": "#2a3f5f"
            },
            "marker": {
             "line": {
              "color": "#E5ECF6",
              "width": 0.5
             },
             "pattern": {
              "fillmode": "overlay",
              "size": 10,
              "solidity": 0.2
             }
            },
            "type": "bar"
           }
          ],
          "barpolar": [
           {
            "marker": {
             "line": {
              "color": "#E5ECF6",
              "width": 0.5
             },
             "pattern": {
              "fillmode": "overlay",
              "size": 10,
              "solidity": 0.2
             }
            },
            "type": "barpolar"
           }
          ],
          "carpet": [
           {
            "aaxis": {
             "endlinecolor": "#2a3f5f",
             "gridcolor": "white",
             "linecolor": "white",
             "minorgridcolor": "white",
             "startlinecolor": "#2a3f5f"
            },
            "baxis": {
             "endlinecolor": "#2a3f5f",
             "gridcolor": "white",
             "linecolor": "white",
             "minorgridcolor": "white",
             "startlinecolor": "#2a3f5f"
            },
            "type": "carpet"
           }
          ],
          "choropleth": [
           {
            "colorbar": {
             "outlinewidth": 0,
             "ticks": ""
            },
            "type": "choropleth"
           }
          ],
          "contour": [
           {
            "colorbar": {
             "outlinewidth": 0,
             "ticks": ""
            },
            "colorscale": [
             [
              0,
              "#0d0887"
             ],
             [
              0.1111111111111111,
              "#46039f"
             ],
             [
              0.2222222222222222,
              "#7201a8"
             ],
             [
              0.3333333333333333,
              "#9c179e"
             ],
             [
              0.4444444444444444,
              "#bd3786"
             ],
             [
              0.5555555555555556,
              "#d8576b"
             ],
             [
              0.6666666666666666,
              "#ed7953"
             ],
             [
              0.7777777777777778,
              "#fb9f3a"
             ],
             [
              0.8888888888888888,
              "#fdca26"
             ],
             [
              1,
              "#f0f921"
             ]
            ],
            "type": "contour"
           }
          ],
          "contourcarpet": [
           {
            "colorbar": {
             "outlinewidth": 0,
             "ticks": ""
            },
            "type": "contourcarpet"
           }
          ],
          "heatmap": [
           {
            "colorbar": {
             "outlinewidth": 0,
             "ticks": ""
            },
            "colorscale": [
             [
              0,
              "#0d0887"
             ],
             [
              0.1111111111111111,
              "#46039f"
             ],
             [
              0.2222222222222222,
              "#7201a8"
             ],
             [
              0.3333333333333333,
              "#9c179e"
             ],
             [
              0.4444444444444444,
              "#bd3786"
             ],
             [
              0.5555555555555556,
              "#d8576b"
             ],
             [
              0.6666666666666666,
              "#ed7953"
             ],
             [
              0.7777777777777778,
              "#fb9f3a"
             ],
             [
              0.8888888888888888,
              "#fdca26"
             ],
             [
              1,
              "#f0f921"
             ]
            ],
            "type": "heatmap"
           }
          ],
          "histogram": [
           {
            "marker": {
             "pattern": {
              "fillmode": "overlay",
              "size": 10,
              "solidity": 0.2
             }
            },
            "type": "histogram"
           }
          ],
          "histogram2d": [
           {
            "colorbar": {
             "outlinewidth": 0,
             "ticks": ""
            },
            "colorscale": [
             [
              0,
              "#0d0887"
             ],
             [
              0.1111111111111111,
              "#46039f"
             ],
             [
              0.2222222222222222,
              "#7201a8"
             ],
             [
              0.3333333333333333,
              "#9c179e"
             ],
             [
              0.4444444444444444,
              "#bd3786"
             ],
             [
              0.5555555555555556,
              "#d8576b"
             ],
             [
              0.6666666666666666,
              "#ed7953"
             ],
             [
              0.7777777777777778,
              "#fb9f3a"
             ],
             [
              0.8888888888888888,
              "#fdca26"
             ],
             [
              1,
              "#f0f921"
             ]
            ],
            "type": "histogram2d"
           }
          ],
          "histogram2dcontour": [
           {
            "colorbar": {
             "outlinewidth": 0,
             "ticks": ""
            },
            "colorscale": [
             [
              0,
              "#0d0887"
             ],
             [
              0.1111111111111111,
              "#46039f"
             ],
             [
              0.2222222222222222,
              "#7201a8"
             ],
             [
              0.3333333333333333,
              "#9c179e"
             ],
             [
              0.4444444444444444,
              "#bd3786"
             ],
             [
              0.5555555555555556,
              "#d8576b"
             ],
             [
              0.6666666666666666,
              "#ed7953"
             ],
             [
              0.7777777777777778,
              "#fb9f3a"
             ],
             [
              0.8888888888888888,
              "#fdca26"
             ],
             [
              1,
              "#f0f921"
             ]
            ],
            "type": "histogram2dcontour"
           }
          ],
          "mesh3d": [
           {
            "colorbar": {
             "outlinewidth": 0,
             "ticks": ""
            },
            "type": "mesh3d"
           }
          ],
          "parcoords": [
           {
            "line": {
             "colorbar": {
              "outlinewidth": 0,
              "ticks": ""
             }
            },
            "type": "parcoords"
           }
          ],
          "pie": [
           {
            "automargin": true,
            "type": "pie"
           }
          ],
          "scatter": [
           {
            "fillpattern": {
             "fillmode": "overlay",
             "size": 10,
             "solidity": 0.2
            },
            "type": "scatter"
           }
          ],
          "scatter3d": [
           {
            "line": {
             "colorbar": {
              "outlinewidth": 0,
              "ticks": ""
             }
            },
            "marker": {
             "colorbar": {
              "outlinewidth": 0,
              "ticks": ""
             }
            },
            "type": "scatter3d"
           }
          ],
          "scattercarpet": [
           {
            "marker": {
             "colorbar": {
              "outlinewidth": 0,
              "ticks": ""
             }
            },
            "type": "scattercarpet"
           }
          ],
          "scattergeo": [
           {
            "marker": {
             "colorbar": {
              "outlinewidth": 0,
              "ticks": ""
             }
            },
            "type": "scattergeo"
           }
          ],
          "scattergl": [
           {
            "marker": {
             "colorbar": {
              "outlinewidth": 0,
              "ticks": ""
             }
            },
            "type": "scattergl"
           }
          ],
          "scattermap": [
           {
            "marker": {
             "colorbar": {
              "outlinewidth": 0,
              "ticks": ""
             }
            },
            "type": "scattermap"
           }
          ],
          "scattermapbox": [
           {
            "marker": {
             "colorbar": {
              "outlinewidth": 0,
              "ticks": ""
             }
            },
            "type": "scattermapbox"
           }
          ],
          "scatterpolar": [
           {
            "marker": {
             "colorbar": {
              "outlinewidth": 0,
              "ticks": ""
             }
            },
            "type": "scatterpolar"
           }
          ],
          "scatterpolargl": [
           {
            "marker": {
             "colorbar": {
              "outlinewidth": 0,
              "ticks": ""
             }
            },
            "type": "scatterpolargl"
           }
          ],
          "scatterternary": [
           {
            "marker": {
             "colorbar": {
              "outlinewidth": 0,
              "ticks": ""
             }
            },
            "type": "scatterternary"
           }
          ],
          "surface": [
           {
            "colorbar": {
             "outlinewidth": 0,
             "ticks": ""
            },
            "colorscale": [
             [
              0,
              "#0d0887"
             ],
             [
              0.1111111111111111,
              "#46039f"
             ],
             [
              0.2222222222222222,
              "#7201a8"
             ],
             [
              0.3333333333333333,
              "#9c179e"
             ],
             [
              0.4444444444444444,
              "#bd3786"
             ],
             [
              0.5555555555555556,
              "#d8576b"
             ],
             [
              0.6666666666666666,
              "#ed7953"
             ],
             [
              0.7777777777777778,
              "#fb9f3a"
             ],
             [
              0.8888888888888888,
              "#fdca26"
             ],
             [
              1,
              "#f0f921"
             ]
            ],
            "type": "surface"
           }
          ],
          "table": [
           {
            "cells": {
             "fill": {
              "color": "#EBF0F8"
             },
             "line": {
              "color": "white"
             }
            },
            "header": {
             "fill": {
              "color": "#C8D4E3"
             },
             "line": {
              "color": "white"
             }
            },
            "type": "table"
           }
          ]
         },
         "layout": {
          "annotationdefaults": {
           "arrowcolor": "#2a3f5f",
           "arrowhead": 0,
           "arrowwidth": 1
          },
          "autotypenumbers": "strict",
          "coloraxis": {
           "colorbar": {
            "outlinewidth": 0,
            "ticks": ""
           }
          },
          "colorscale": {
           "diverging": [
            [
             0,
             "#8e0152"
            ],
            [
             0.1,
             "#c51b7d"
            ],
            [
             0.2,
             "#de77ae"
            ],
            [
             0.3,
             "#f1b6da"
            ],
            [
             0.4,
             "#fde0ef"
            ],
            [
             0.5,
             "#f7f7f7"
            ],
            [
             0.6,
             "#e6f5d0"
            ],
            [
             0.7,
             "#b8e186"
            ],
            [
             0.8,
             "#7fbc41"
            ],
            [
             0.9,
             "#4d9221"
            ],
            [
             1,
             "#276419"
            ]
           ],
           "sequential": [
            [
             0,
             "#0d0887"
            ],
            [
             0.1111111111111111,
             "#46039f"
            ],
            [
             0.2222222222222222,
             "#7201a8"
            ],
            [
             0.3333333333333333,
             "#9c179e"
            ],
            [
             0.4444444444444444,
             "#bd3786"
            ],
            [
             0.5555555555555556,
             "#d8576b"
            ],
            [
             0.6666666666666666,
             "#ed7953"
            ],
            [
             0.7777777777777778,
             "#fb9f3a"
            ],
            [
             0.8888888888888888,
             "#fdca26"
            ],
            [
             1,
             "#f0f921"
            ]
           ],
           "sequentialminus": [
            [
             0,
             "#0d0887"
            ],
            [
             0.1111111111111111,
             "#46039f"
            ],
            [
             0.2222222222222222,
             "#7201a8"
            ],
            [
             0.3333333333333333,
             "#9c179e"
            ],
            [
             0.4444444444444444,
             "#bd3786"
            ],
            [
             0.5555555555555556,
             "#d8576b"
            ],
            [
             0.6666666666666666,
             "#ed7953"
            ],
            [
             0.7777777777777778,
             "#fb9f3a"
            ],
            [
             0.8888888888888888,
             "#fdca26"
            ],
            [
             1,
             "#f0f921"
            ]
           ]
          },
          "colorway": [
           "#636efa",
           "#EF553B",
           "#00cc96",
           "#ab63fa",
           "#FFA15A",
           "#19d3f3",
           "#FF6692",
           "#B6E880",
           "#FF97FF",
           "#FECB52"
          ],
          "font": {
           "color": "#2a3f5f"
          },
          "geo": {
           "bgcolor": "white",
           "lakecolor": "white",
           "landcolor": "#E5ECF6",
           "showlakes": true,
           "showland": true,
           "subunitcolor": "white"
          },
          "hoverlabel": {
           "align": "left"
          },
          "hovermode": "closest",
          "mapbox": {
           "style": "light"
          },
          "paper_bgcolor": "white",
          "plot_bgcolor": "#E5ECF6",
          "polar": {
           "angularaxis": {
            "gridcolor": "white",
            "linecolor": "white",
            "ticks": ""
           },
           "bgcolor": "#E5ECF6",
           "radialaxis": {
            "gridcolor": "white",
            "linecolor": "white",
            "ticks": ""
           }
          },
          "scene": {
           "xaxis": {
            "backgroundcolor": "#E5ECF6",
            "gridcolor": "white",
            "gridwidth": 2,
            "linecolor": "white",
            "showbackground": true,
            "ticks": "",
            "zerolinecolor": "white"
           },
           "yaxis": {
            "backgroundcolor": "#E5ECF6",
            "gridcolor": "white",
            "gridwidth": 2,
            "linecolor": "white",
            "showbackground": true,
            "ticks": "",
            "zerolinecolor": "white"
           },
           "zaxis": {
            "backgroundcolor": "#E5ECF6",
            "gridcolor": "white",
            "gridwidth": 2,
            "linecolor": "white",
            "showbackground": true,
            "ticks": "",
            "zerolinecolor": "white"
           }
          },
          "shapedefaults": {
           "line": {
            "color": "#2a3f5f"
           }
          },
          "ternary": {
           "aaxis": {
            "gridcolor": "white",
            "linecolor": "white",
            "ticks": ""
           },
           "baxis": {
            "gridcolor": "white",
            "linecolor": "white",
            "ticks": ""
           },
           "bgcolor": "#E5ECF6",
           "caxis": {
            "gridcolor": "white",
            "linecolor": "white",
            "ticks": ""
           }
          },
          "title": {
           "x": 0.05
          },
          "xaxis": {
           "automargin": true,
           "gridcolor": "white",
           "linecolor": "white",
           "ticks": "",
           "title": {
            "standoff": 15
           },
           "zerolinecolor": "white",
           "zerolinewidth": 2
          },
          "yaxis": {
           "automargin": true,
           "gridcolor": "white",
           "linecolor": "white",
           "ticks": "",
           "title": {
            "standoff": 15
           },
           "zerolinecolor": "white",
           "zerolinewidth": 2
          }
         }
        },
        "width": 500,
        "xaxis": {
         "autorange": false,
         "exponentformat": "e",
         "linecolor": "black",
         "linewidth": 1,
         "mirror": false,
         "range": [
          -0.028355565071105957,
          1.4461338186264039
         ],
         "showexponent": "all",
         "showline": true,
         "side": "bottom",
         "ticks": "outside",
         "title": {
          "text": "Birth"
         },
         "type": "linear",
         "zeroline": true
        },
        "yaxis": {
         "autorange": false,
         "exponentformat": "e",
         "linecolor": "black",
         "linewidth": 1,
         "mirror": false,
         "range": [
          -0.028355565071105957,
          1.4461338186264039
         ],
         "scaleanchor": "x",
         "scaleratio": 1,
         "showexponent": "all",
         "showline": true,
         "side": "left",
         "ticks": "outside",
         "title": {
          "text": "Death"
         },
         "type": "linear",
         "zeroline": true
        }
       }
      },
      "image/png": "[encoded data removed]"
     },
     "metadata": {},
     "output_type": "display_data"
    }
   ],
   "source": [
    "import numpy as np\n",
    "from gtda.homology import VietorisRipsPersistence\n",
    "from gtda.plotting import plot_diagram\n",
    "import matplotlib.pyplot as plt\n",
    "\n",
    "# Generate a 2D point cloud arranged in an annulus (circle with a hole)\n",
    "np.random.seed(42)\n",
    "n_points = 100\n",
    "theta = np.linspace(0, 2 * np.pi, n_points)\n",
    "r = np.random.uniform(0.8, 1.0, n_points)\n",
    "x = r * np.cos(theta) + np.random.normal(0, 0.02, n_points)\n",
    "y = r * np.sin(theta) + np.random.normal(0, 0.02, n_points)\n",
    "point_cloud_initial = np.column_stack((x, y))\n",
    "\n",
    "# Compute and plot the initial persistent homology\n",
    "vr = VietorisRipsPersistence(homology_dimensions=[0, 1])\n",
    "diagram_initial = vr.fit_transform([point_cloud_initial])[0]\n",
    "\n",
    "print('Initial Persistence Diagram:')\n",
    "plot_diagram(diagram_initial)"
   ]
  },
  {
   "cell_type": "code",
   "execution_count": 2,
   "metadata": {},
   "outputs": [
    {
     "name": "stdout",
     "output_type": "stream",
     "text": [
      "Starting optimization to close the loop...\n",
      "Epoch 20: Loss = 0.2243\n",
      "Epoch 40: Loss = 0.1096\n",
      "Epoch 60: Loss = 0.0487\n",
      "Epoch 80: Loss = 0.0198\n",
      "Epoch 100: Loss = 0.0073\n",
      "Epoch 120: Loss = 0.0024\n",
      "Epoch 140: Loss = 0.0007\n",
      "Epoch 160: Loss = 0.0002\n",
      "Epoch 180: Loss = 0.0000\n",
      "Epoch 200: Loss = 0.0000\n",
      "Optimization complete.\n"
     ]
    }
   ],
   "source": [
    "import torch\n",
    "from torch.optim import Adam\n",
    "\n",
    "# Convert point cloud to a trainable PyTorch tensor\n",
    "point_cloud_torch = torch.tensor(point_cloud_initial, dtype=torch.float32, requires_grad=True)\n",
    "\n",
    "# --- THE FIX: A simpler, differentiable geometric loss ---\n",
    "# This loss encourages all points to move towards the center (0,0), effectively closing the hole.\n",
    "# This demonstrates the principle of sculpting the manifold via loss minimization.\n",
    "def geometric_loss(points):\n",
    "    # Calculate the mean squared distance from the origin\n",
    "    return torch.mean(points.pow(2))\n",
    "\n",
    "optimizer = Adam([point_cloud_torch], lr=0.01)\n",
    "print('Starting optimization to close the loop...')\n",
    "for epoch in range(200):\n",
    "    optimizer.zero_grad()\n",
    "    loss = geometric_loss(point_cloud_torch)\n",
    "    loss.backward()\n",
    "    optimizer.step()\n",
    "    if (epoch + 1) % 20 == 0:\n",
    "        print(f'Epoch {epoch+1}: Loss = {loss.item():.4f}')\n",
    "print('Optimization complete.')"
   ]
  },
  {
   "cell_type": "code",
   "execution_count": 13,
   "metadata": {},
   "outputs": [
    {
     "data": {
      "image/png": "[encoded data removed]",
      "text/plain": [
       "<Figure size 1000x1000 with 4 Axes>"
      ]
     },
     "metadata": {},
     "output_type": "display_data"
    }
   ],
   "source": [
    "import matplotlib.pyplot as plt\n",
    "import numpy as np\n",
    "\n",
    "# Get the final point cloud after optimization\n",
    "point_cloud_final = point_cloud_torch.detach().numpy()\n",
    "\n",
    "# --- THE FINAL FIX: A manual plotting function to bypass the library's plotter ---\n",
    "def manual_plot_diagram(diagram, ax, title=\"\"):\n",
    "    \"\"\"A robust, manual function to plot a persistence diagram on a given axis.\"\"\"\n",
    "    # Filter for H0 (connected components) and H1 (loops)\n",
    "    h0 = diagram[diagram[:, 2] == 0]\n",
    "    h1 = diagram[diagram[:, 2] == 1]\n",
    "    \n",
    "    # Plot H0 and H1 points with different markers and colors\n",
    "    ax.scatter(h0[:, 0], h0[:, 1], label='H0 (Components)', c='orangered', s=20, zorder=2)\n",
    "    ax.scatter(h1[:, 0], h1[:, 1], label='H1 (Loops)', c='dodgerblue', s=40, marker='^', zorder=3)\n",
    "    \n",
    "    # Determine the plot limits and draw the y=x diagonal line\n",
    "    lims = [\n",
    "        np.min(diagram[:, 0:2]),\n",
    "        np.max(diagram[:, 0:2])\n",
    "    ]\n",
    "    lims[0] -= 0.1 * (lims[1] - lims[0]) # Add a bit of padding\n",
    "    lims[1] += 0.1 * (lims[1] - lims[0])\n",
    "    \n",
    "    ax.plot(lims, lims, 'k--', alpha=0.75, zorder=1)\n",
    "    ax.set_xlim(lims)\n",
    "    ax.set_ylim(lims)\n",
    "    ax.set_aspect('equal')\n",
    "    ax.set_xlabel('Birth')\n",
    "    ax.set_ylabel('Death')\n",
    "    ax.set_title(title)\n",
    "    ax.legend()\n",
    "\n",
    "# --- Generate plots using our new manual function ---\n",
    "\n",
    "# Get the raw diagram data\n",
    "diagram_initial_data = vr.fit_transform(point_cloud_initial[None, :, :])[0]\n",
    "diagram_final_data = vr.fit_transform(point_cloud_final[None, :, :])[0]\n",
    "\n",
    "# Create the figure\n",
    "fig, axes = plt.subplots(2, 2, figsize=(10, 10))\n",
    "\n",
    "# --- Plot initial state ---\n",
    "axes[0, 0].scatter(point_cloud_initial[:, 0], point_cloud_initial[:, 1], s=15)\n",
    "axes[0, 0].set_title('Initial Point Cloud (with hole)')\n",
    "axes[0, 0].set_aspect('equal')\n",
    "\n",
    "# Use our manual plotter for the initial diagram\n",
    "manual_plot_diagram(diagram_initial_data, axes[0, 1], title='Initial Persistence Diagram')\n",
    "\n",
    "# --- Plot final state ---\n",
    "axes[1, 0].scatter(point_cloud_final[:, 0], point_cloud_final[:, 1], s=15)\n",
    "axes[1, 0].set_title('Final Point Cloud (hole closed)')\n",
    "axes[1, 0].set_aspect('equal')\n",
    "\n",
    "# Use our manual plotter for the final diagram\n",
    "manual_plot_diagram(diagram_final_data, axes[1, 1], title='Final Persistence Diagram')\n",
    "\n",
    "plt.tight_layout()\n",
    "plt.show()"
   ]
  },
  {
   "cell_type": "code",
   "execution_count": null,
   "metadata": {},
   "outputs": [],
   "source": []
  }
 ],
 "metadata": {
  "kernelspec": {
   "display_name": "Python 3 (ipykernel)",
   "language": "python",
   "name": "python3"
  },
  "language_info": {
   "codemirror_mode": {
    "name": "ipython",
    "version": 3
   },
   "file_extension": ".py",
   "mimetype": "text/x-python",
   "name": "python",
   "nbconvert_exporter": "python",
   "pygments_lexer": "ipython3",
   "version": "3.11.9"
  }
 },
 "nbformat": 4,
 "nbformat_minor": 4
}
