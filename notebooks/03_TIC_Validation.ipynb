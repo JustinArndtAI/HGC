{
 "cells": [
  {
   "cell_type": "code",
   "execution_count": null,
   "metadata": {},
   "outputs": [],
   "source": [
    "import numpy as np\n",
    "from gtda.homology import VietorisRipsPersistence\n",
    "from gtda.diagrams import PersistenceEntropy\n",
    "from gtda.plotting import plot_diagram\n",
    "\n",
    "# Generate a 2D point cloud arranged in an annulus (circle with a hole)\n",
    "np.random.seed(42)\n",
    "theta = np.linspace(0, 2 * np.pi, 100)\n",
    "r_inner = 0.5\n",
    "r_outer = 1.0\n",
    "r = np.random.uniform(r_inner, r_outer, 100)\n",
    "x = r * np.cos(theta)\n",
    "y = r * np.sin(theta)\n",
    "point_cloud = np.column_stack((x, y))\n",
    "\n",
    "# Compute persistent homology\n",
    "vr = VietorisRipsPersistence(homology_dimensions=[0, 1])\n",
    "diagrams = vr.fit_transform([point_cloud])\n",
    "\n",
    "# Plot the persistence diagram to confirm the H1 loop\n",
    "plot_diagram(diagrams[0])"
   ]
  },
  {
   "cell_type": "code",
   "execution_count": null,
   "metadata": {},
   "outputs": [],
   "source": [
    "import torch\n",
    "from torch.optim import Adam\n",
    "\n",
    "# Convert point cloud to a trainable PyTorch tensor\n",
    "point_cloud_torch = torch.tensor(point_cloud, dtype=torch.float32, requires_grad=True)\n",
    "\n",
    "# Define differentiable topological loss\n",
    "def topological_loss(diagram, dimension=1, target_persistence=0.0):\n",
    "    # Extract the H1 features\n",
    "    h1_features = diagram[0][diagram[0][:, 2] == dimension]\n",
    "    if len(h1_features) > 0:\n",
    "        # Compute persistence (death - birth) of the most prominent H1 feature\n",
    "        persistences = h1_features[:, 1] - h1_features[:, 0]\n",
    "        max_persistence = torch.max(torch.tensor(persistences))\n",
    "        return (max_persistence - target_persistence) ** 2\n",
    "    else:\n",
    "        return torch.tensor(0.0)\n",
    "\n",
    "# Optimization loop\n",
    "optimizer = Adam([point_cloud_torch], lr=0.01)\n",
    "for epoch in range(100):\n",
    "    optimizer.zero_grad()\n",
    "    \n",
    "    # Recompute persistent homology (note: giotto-tda is not natively differentiable, this is a proxy; in practice, use differentiable TDA layers if available)\n",
    "    diagrams = vr.fit_transform([point_cloud_torch.detach().numpy()])  # Detach for non-diff computation\n",
    "    loss = topological_loss(diagrams)\n",
    "    loss.backward()  # This assumes a differentiable proxy; adjust as needed\n",
    "    optimizer.step()\n",
    "    if epoch % 10 == 0:\n",
    "        print(f'Epoch {epoch}: Loss = {loss.item()}')"
   ]
  },
  {
   "cell_type": "code",
   "execution_count": null,
   "metadata": {},
   "outputs": [],
   "source": [
    "import matplotlib.pyplot as plt\n",
    "\n",
    "# Compute final diagrams after optimization\n",
    "final_point_cloud = point_cloud_torch.detach().numpy()\n",
    "final_diagrams = vr.fit_transform([final_point_cloud])\n",
    "\n",
    "# Create side-by-side visualization\n",
    "fig, axs = plt.subplots(2, 2, figsize=(12, 8))\n",
    "\n",
    "# Initial point cloud\n",
    "axs[0, 0].scatter(point_cloud[:, 0], point_cloud[:, 1])\n",
    "axs[0, 0].set_title('Initial Point Cloud (Annulus)')\n",
    "\n",
    "# Initial persistence diagram\n",
    "axs[0, 1].scatter(diagrams[0][:, 0], diagrams[0][:, 1], c=diagrams[0][:, 2])\n",
    "axs[0, 1].set_title('Initial Persistence Diagram')\n",
    "\n",
    "# Final point cloud\n",
    "axs[1, 0].scatter(final_point_cloud[:, 0], final_point_cloud[:, 1])\n",
    "axs[1, 0].set_title('Optimized Point Cloud')\n",
    "\n",
    "# Final persistence diagram\n",
    "axs[1, 1].scatter(final_diagrams[0][:, 0], final_diagrams[0][:, 1], c=final_diagrams[0][:, 2])\n",
    "axs[1, 1].set_title('Final Persistence Diagram')\n",
    "\n",
    "plt.tight_layout()\n",
    "plt.show()"
   ]
  }
 ],
 "metadata": {
  "kernelspec": {
   "display_name": "Python 3",
   "language": "python",
   "name": "python3"
  },
  "language_info": {
   "codemirror_mode": {
    "name": "ipython",
    "version": 3
   },
   "file_extension": ".py",
   "mimetype": "text/x-python",
   "name": "python",
   "nbconvert_exporter": "python",
   "pygments_lexer": "ipython3",
   "version": "3.10.0"
  }
 },
 "nbformat": 4,
 "nbformat_minor": 2
}
