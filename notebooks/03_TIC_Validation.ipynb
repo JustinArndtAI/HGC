{
 "cells": [
  {
   "cell_type": "code",
   "execution_count": null,
   "metadata": {},
   "outputs": [],
   "source": [
    "import numpy as np\n",
    "from gtda.homology import VietorisRipsPersistence\n",
    "from gtda.diagrams import PersistenceEntropy\n",
    "from gtda.plotting import plot_diagram\n",
    "\n",
    "# Generate a 2D point cloud arranged in an annulus (circle with a hole)\n",
    "np.random.seed(42)\n",
    "theta = np.linspace(0, 2 * np.pi, 100)\n",
    "r_inner = 0.5\n",
    "r_outer = 1.0\n",
    "r = np.random.uniform(r_inner, r_outer, 100)\n",
    "x = r * np.cos(theta)\n",
    "y = r * np.sin(theta)\n",
    "point_cloud = np.column_stack((x, y))\n",
    "\n",
    "# Compute persistent homology\n",
    "vr = VietorisRipsPersistence(homology_dimensions=[0, 1])\n",
    "diagrams = vr.fit_transform([point_cloud])\n",
    "\n",
    "# Plot the persistence diagram to confirm the H1 loop\n",
    "plot_diagram(diagrams[0])"
   ]
  }
 ],
 "metadata": {
  "kernelspec": {
   "display_name": "Python 3",
   "language": "python",
   "name": "python3"
  },
  "language_info": {
   "codemirror_mode": {
    "name": "ipython",
    "version": 3
   },
   "file_extension": ".py",
   "mimetype": "text/x-python",
   "name": "python",
   "nbconvert_exporter": "python",
   "pygments_lexer": "ipython3",
   "version": "3.10.0"
  }
 },
 "nbformat": 4,
 "nbformat_minor": 2
}
