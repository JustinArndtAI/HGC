{
 "cells": [
  {
   "cell_type": "code",
   "execution_count": null,
   "metadata": {},
   "outputs": [],
   "source": [
    "import sys\n",
    "sys.path.append('../src')\n",
    "from vsa import VSA\n",
    "import numpy as np\n",
    "\n",
    "vsa = VSA(dim=2048)\n",
    "\n",
    "# Reuse HKM from ICT notebook (recreate for independence)\n",
    "np.random.seed(42)\n",
    "concepts = [f'concept_{i}' for i in range(100)]\n",
    "atomic_vectors = {concept: np.random.normal(0, 1/np.sqrt(vsa.dim), vsa.dim) for concept in concepts}\n",
    "\n",
    "facts = []\n",
    "for i in range(0, 100, 2):\n",
    "    role = atomic_vectors[concepts[i]]\n",
    "    filler = atomic_vectors[concepts[i+1]]\n",
    "    bound = vsa.bind(role, filler)\n",
    "    facts.append(bound)\n",
    "\n",
    "M = vsa.bundle(facts)"
   ]
  },
  {
   "cell_type": "code",
   "execution_count": null,
   "metadata": {},
   "outputs": [],
   "source": [
    "def generate_projections(vector, k, sub_dimension):\n",
    "    projections = []\n",
    "    for _ in range(k):\n",
    "        proj_matrix = np.random.normal(0, 1/np.sqrt(sub_dimension), (sub_dimension, vsa.dim))\n",
    "        projected = np.dot(proj_matrix, vector)\n",
    "        projections.append(projected)\n",
    "    return projections\n",
    "\n",
    "def get_consensus(role, expected_filler, projections, threshold=0.5):\n",
    "    agreements = 0\n",
    "    for proj in projections:\n",
    "        retrieved = vsa.unbind(role, proj)  # Note: unbind needs to handle projected dims, assume vsa.unbind updated if needed\n",
    "        coherence = np.dot(retrieved, expected_filler) / (np.linalg.norm(retrieved) * np.linalg.norm(expected_filler))\n",
    "        if coherence > threshold:\n",
    "            agreements += 1\n",
    "    return (agreements / len(projections)) > 0.8"
   ]
  },
  {
   "cell_type": "code",
   "execution_count": null,
   "metadata": {},
   "outputs": [],
   "source": [
    "import matplotlib.pyplot as plt\n",
    "\n",
    "# Create a spurious fact (role and filler not in M)\n",
    "spurious_role = np.random.normal(0, 1/np.sqrt(vsa.dim), vsa.dim)\n",
    "spurious_filler = np.random.normal(0, 1/np.sqrt(vsa.dim), vsa.dim)\n",
    "\n",
    "# Parameters\n",
    "sub_dimension = 512  # Lower dimension for projections\n",
    "num_trials = 100  # Number of trials per k to estimate error rate\n",
    "ks = range(1, 26)  # Vary k from 1 to 25\n",
    "error_rates = []\n",
    "\n",
    "for k in ks:\n",
    "    errors = 0\n",
    "    for _ in range(num_trials):\n",
    "        projections = generate_projections(M, k, sub_dimension)\n",
    "        if get_consensus(spurious_role, spurious_filler, projections):\n",
    "            errors += 1\n",
    "    error_rate = errors / num_trials\n",
    "    error_rates.append(error_rate)\n",
    "\n",
    "plt.plot(ks, error_rates, marker='o')\n",
    "plt.xlabel('Number of Projections (k)')\n",
    "plt.ylabel('Error Rate')\n",
    "plt.title('Error Rate vs. Number of Projections')\n",
    "plt.show()"
   ]
  }
 ],
 "metadata": {
  "kernelspec": {
   "display_name": "Python 3",
   "language": "python",
   "name": "python3"
  },
  "language_info": {
   "codemirror_mode": {
    "name": "ipython",
    "version": 3
   },
   "file_extension": ".py",
   "mimetype": "text/x-python",
   "name": "python",
   "nbconvert_exporter": "python",
   "pygments_lexer": "ipython3",
   "version": "3.10.0"
  }
 },
 "nbformat": 4,
 "nbformat_minor": 2
}
